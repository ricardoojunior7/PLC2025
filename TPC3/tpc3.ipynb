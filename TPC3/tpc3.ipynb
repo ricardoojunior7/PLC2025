{
 "cells": [
  {
   "cell_type": "markdown",
   "id": "570cfbe0",
   "metadata": {},
   "source": [
    "**TPC 3** \n",
    "\n",
    "**Objetivo:**\n",
    "\n",
    "Criar um analisador léxico para queries SPARQL."
   ]
  },
  {
   "cell_type": "code",
   "execution_count": null,
   "id": "ec908bd9",
   "metadata": {},
   "outputs": [
    {
     "data": {
      "text/plain": [
       "[('SELECT', 'SELECT', 1, (0, 6)),\n",
       " ('VAR', '?a', 1, (7, 9)),\n",
       " ('VAR', '?b', 1, (10, 12)),\n",
       " ('VAR', '?c', 1, (13, 15)),\n",
       " ('WHERE', 'WHERE', 1, (16, 21)),\n",
       " ('NEWLINE', '\\n', 2, (22, 23)),\n",
       " ('PUNCT', '{', 2, (23, 24)),\n",
       " ('NEWLINE', '\\n', 3, (24, 25)),\n",
       " ('VAR', '?a', 3, (27, 29)),\n",
       " ('ERRO', 'a', 3, (30, 31)),\n",
       " ('IDENT', ':Pessoa', 3, (32, 39)),\n",
       " ('PUNCT', ';', 3, (40, 41)),\n",
       " ('NEWLINE', '\\n', 4, (41, 42)),\n",
       " ('IDENT', ':Joga', 4, (47, 52)),\n",
       " ('VAR', '?b', 4, (53, 55)),\n",
       " ('PUNCT', ';', 4, (56, 57)),\n",
       " ('NEWLINE', '\\n', 5, (57, 58)),\n",
       " ('IDENT', ':Clube', 5, (63, 69)),\n",
       " ('VAR', '?c', 5, (70, 72)),\n",
       " ('PUNCT', '.', 5, (73, 74)),\n",
       " ('NEWLINE', '\\n', 6, (74, 75)),\n",
       " ('PUNCT', '}', 6, (75, 76)),\n",
       " ('NEWLINE', '\\n', 7, (76, 77))]"
      ]
     },
     "execution_count": 12,
     "metadata": {},
     "output_type": "execute_result"
    }
   ],
   "source": [
    "import re\n",
    "\n",
    "query = \"\"\"SELECT ?a ?b ?c WHERE \n",
    "{\n",
    "  ?a a :Pessoa ;\n",
    "     :Joga ?b ;\n",
    "     :Clube ?c .\n",
    "}\n",
    "\"\"\"\n",
    "\n",
    "def tokenizer(query):\n",
    "    tokens = [\n",
    "        ('NEWLINE', r'\\n'),\n",
    "        ('SKIP', r'[ \\t]+'),\n",
    "        ('PREFIX', r'PREFIX\\b'),\n",
    "        ('SELECT', r'SELECT\\b'),\n",
    "        ('WHERE', r'WHERE\\b'),\n",
    "        ('OPTIONAL', r'OPTIONAL\\b'),\n",
    "        ('FILTER', r'FILTER\\b'),\n",
    "        ('VAR', r'\\?[a-zA-Z_][\\w]*'),     \n",
    "        ('URI', r'<[^>]*>'),              \n",
    "        ('IDENT', r':[a-zA-Z_][\\w]*'),    \n",
    "        ('INT', r'\\d+'),\n",
    "        ('STRING', r'\"[^\"]*\"'),\n",
    "        ('OP', r'[=!<>]+'),\n",
    "        ('PUNCT', r'[{}.;,]'),\n",
    "        ('ERRO', r'.')                    \n",
    "    ]\n",
    "    line = 1\n",
    "    encontrado = []\n",
    "    \n",
    "    token = '|'.join(f'(?P<{name}>{pattern})'for name, pattern in tokens)\n",
    "    find = re.finditer(token, query)\n",
    "    for f in find:\n",
    "        dicionario = f.groupdict()\n",
    "        tipo = None\n",
    "        valor = f.group()\n",
    "        for key in dicionario:\n",
    "            if dicionario[key]:\n",
    "                tipo = key\n",
    "                break\n",
    "        if tipo == 'NEWLINE':\n",
    "            line+=1\n",
    "            encontrado.append((tipo,valor,line,f.span()))\n",
    "        elif tipo != 'SKIP':\n",
    "            encontrado.append((tipo,valor,line,f.span()))\n",
    "        \n",
    "    return encontrado\n",
    "    print(encontrado)\n",
    "    \n",
    "tokenizer(query)    "
   ]
  }
 ],
 "metadata": {
  "kernelspec": {
   "display_name": "base",
   "language": "python",
   "name": "python3"
  },
  "language_info": {
   "codemirror_mode": {
    "name": "ipython",
    "version": 3
   },
   "file_extension": ".py",
   "mimetype": "text/x-python",
   "name": "python",
   "nbconvert_exporter": "python",
   "pygments_lexer": "ipython3",
   "version": "3.12.11"
  }
 },
 "nbformat": 4,
 "nbformat_minor": 5
}
