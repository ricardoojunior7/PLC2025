{
 "cells": [
  {
   "cell_type": "markdown",
   "id": "2b1d67ec",
   "metadata": {},
   "source": [
    "# TPC5 -> Parsers - Análise Sintática"
   ]
  },
  {
   "cell_type": "markdown",
   "id": "76e35253",
   "metadata": {},
   "source": [
    "### Gramática\n",
    "\n",
    "```text\n",
    "p1: Exp   → Conta Exp2\n",
    "\n",
    "p2: Exp2  → Op Conta Exp2  \n",
    "p3:        | ε\n",
    "\n",
    "p4: Conta → int  \n",
    "p5:        | '(' Exp ')'\n",
    "\n",
    "p6: Op    → '+'  \n",
    "p7:        | '-'  \n",
    "p8:        | '*'  \n",
    "p9:        | '/'\n",
    "\n"
   ]
  },
  {
   "cell_type": "markdown",
   "id": "ebdf5774",
   "metadata": {},
   "source": [
    "### Estrutura\n",
    "\n",
    "```text\n",
    "\n",
    "Exp --> expressão completa\n",
    "Exp2 --> continuação ou fim de uma expressão\n",
    "Conta --> Número inteiro ou uma parte de expressão entre parênteses\n",
    "Op --> Operador aritmético binário"
   ]
  },
  {
   "cell_type": "markdown",
   "id": "6913fa8b",
   "metadata": {},
   "source": [
    "### Descrição\n",
    "\n",
    "```text\n",
    "\n",
    "S = Exp\n",
    "N = {Exp, Exp2, Conta, Op}\n",
    "T = {'Exp', 'Exp2', 'Conta', 'Op', int, +, -, *, /, (, ), ε}"
   ]
  },
  {
   "cell_type": "markdown",
   "id": "4d597dbe",
   "metadata": {},
   "source": [
    "### Lookaheads\n",
    "\n",
    "```text\n",
    "\n",
    "la(p1) = First(Conta Exp2) = {int, '('}\n",
    "la(p2) = First(Op Conta Exp2) = {'+','-','*','/'}\n",
    "la(p3) = Follow(Exp2) = {')', }\n",
    "la(p4) = First(int) = {int}\n",
    "la(p5) = First('('Exp')') = {'('}\n",
    "la(p6) = First('+') = {'+'}\n",
    "la(p7) = First('-') = {'-'}\n",
    "la(p8) = First('*') = {'*'}\n",
    "la(p9) = First('/') = {'/'}"
   ]
  },
  {
   "cell_type": "markdown",
   "id": "788fc40b",
   "metadata": {},
   "source": [
    "### Exemplo de Árvores de Derivações\n",
    "\n",
    "7 + 3\n",
    "\n",
    "```text \n",
    "    A[Exp]\n",
    "    A -> B[Conta]\n",
    "    B -> B1[int: 7]\n",
    "    A -> C[Exp2]\n",
    "    C -> D[Op +]\n",
    "    C -> E[Conta]\n",
    "    E -> E1[int: 3]\n",
    "    C -> F[Exp2 ε]\n",
    "```\n",
    "\n",
    "\n",
    "\n",
    "(5 * 3) / (9 - 2)\n",
    "\n",
    "```text\n",
    "    A[Exp]\n",
    "    A -> B[Conta]\n",
    "    B -> B1[\"( Exp )\"]\n",
    "    B1 -> B2[\"(\"]\n",
    "    B1 -> B3[Exp]\n",
    "    B3 -> B4[Conta]\n",
    "    B4 -> B41[int: 5]\n",
    "    B3 -> B5[Exp2]\n",
    "    B5 -> B6[Op *]\n",
    "    B5 -> B7[Conta]\n",
    "    B7 -> B71[int: 3]\n",
    "    B5 -> B8[Exp2 ε]\n",
    "    B1 -> B9[\")\"]\n",
    "    A -> C[Exp2]\n",
    "    C -> D[Op /]\n",
    "    C -> E[Conta]\n",
    "    E -> E1[\"( Exp )\"]\n",
    "    E1 -> E2[\"(\"]\n",
    "    E1 -> E3[Exp]\n",
    "    E3 -> E4[Conta]\n",
    "    E4 -> E41[int: 9]\n",
    "    E3 -> E5[Exp2]\n",
    "    E5 -> E6[Op -]\n",
    "    E5 -> E7[Conta]\n",
    "    E7 -> E71[int: 2]\n",
    "    E5 -> E8[Exp2 ε]\n",
    "    E1 -> E9[\")\"]\n",
    "    C -> F[Exp2 ε]"
   ]
  },
  {
   "cell_type": "markdown",
   "id": "d3362e97",
   "metadata": {},
   "source": []
  },
  {
   "cell_type": "markdown",
   "id": "0f27f764",
   "metadata": {},
   "source": []
  }
 ],
 "metadata": {
  "language_info": {
   "name": "python"
  }
 },
 "nbformat": 4,
 "nbformat_minor": 5
}
