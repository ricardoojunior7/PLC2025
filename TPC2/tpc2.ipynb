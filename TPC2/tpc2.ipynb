{
 "cells": [
  {
   "cell_type": "markdown",
   "id": "91231cfe",
   "metadata": {},
   "source": [
    "## TPC3: Conversor de MarkDown para HTML\n",
    "\n",
    "Criar em Python um pequeno conversor de MarkDown para HTML para os elementos descritos na \"Basic Syntax\" da Cheat Sheet:"
   ]
  },
  {
   "cell_type": "markdown",
   "id": "55d58e43",
   "metadata": {},
   "source": [
    "### Cabeçalhos: linhas iniciadas por \"# texto\", ou \"## texto\" ou \"### texto\"\n",
    "\n",
    "In: `# Exemplo`\n",
    "\n",
    "Out: `<h1>Exemplo</h1>`"
   ]
  },
  {
   "cell_type": "code",
   "execution_count": 10,
   "id": "bbd3b596",
   "metadata": {},
   "outputs": [
    {
     "name": "stdout",
     "output_type": "stream",
     "text": [
      "<h1>Eu</h1>\n",
      "<h2>Vou</h2>\n",
      "<h3>As aulas</h3>\n"
     ]
    }
   ],
   "source": [
    "import re\n",
    "\n",
    "frase1 = \"# Eu\"\n",
    "frase2 = \"## Vou\"\n",
    "frase3 = \"### As aulas\"\n",
    "\n",
    "\n",
    "def troca(frase):\n",
    "    compilador = re.compile(r\"^(#|##|###)\\s+(.+)\")\n",
    "    if compilador.match(frase):\n",
    "        n = len(compilador.match(frase).group(1))\n",
    "        conteudo = compilador.match(frase).group(2)\n",
    "        return f\"<h{n}>{conteudo}</h{n}>\"\n",
    "    \n",
    "    \n",
    "print(troca(frase1))\n",
    "print(troca(frase2))\n",
    "print(troca(frase3))        \n",
    "    "
   ]
  },
  {
   "cell_type": "markdown",
   "id": "f1464280",
   "metadata": {},
   "source": [
    "### Bold: pedaços de texto entre \"**\":\n",
    "\n",
    "In: `Este é um **exemplo** ...`\n",
    "\n",
    "Out: `Este é um <b>exemplo</b> ...`"
   ]
  },
  {
   "cell_type": "code",
   "execution_count": 18,
   "id": "0a4c3cc1",
   "metadata": {},
   "outputs": [
    {
     "name": "stdout",
     "output_type": "stream",
     "text": [
      "Este é um <b>hello</b>\n"
     ]
    }
   ],
   "source": [
    "frase1 = \"Este é um **hello**\"\n",
    "\n",
    "def bold(frase):\n",
    "    compilador = re.compile(r\"\\*\\*(.+?)\\*\\*\")\n",
    "    if compilador.search(frase):\n",
    "        conteudo = compilador.search(frase).group(1)\n",
    "        return compilador.sub(f\"<b>{conteudo}</b>\", frase)\n",
    "    return frase\n",
    "\n",
    "print(bold(frase1))"
   ]
  },
  {
   "cell_type": "markdown",
   "id": "63c37652",
   "metadata": {},
   "source": [
    "### Itálico: pedaços de texto entre \"*\":\n",
    "\n",
    "In: `Este é um *exemplo* ...`\n",
    "\n",
    "Out: `Este é um <i>exemplo</i> ...`"
   ]
  },
  {
   "cell_type": "code",
   "execution_count": 19,
   "id": "1a4ddbb6",
   "metadata": {},
   "outputs": [
    {
     "name": "stdout",
     "output_type": "stream",
     "text": [
      "Este é um <i>hello</i>\n"
     ]
    }
   ],
   "source": [
    "frase1 = \"Este é um *hello*\"\n",
    "\n",
    "def italico(frase):\n",
    "    compilador = re.compile(r\"\\*(.+?)\\*\")\n",
    "    if compilador.search(frase):\n",
    "        conteudo = compilador.search(frase).group(1)\n",
    "        return compilador.sub(f\"<i>{conteudo}</i>\", frase)\n",
    "    return frase\n",
    "\n",
    "print(italico(frase1))"
   ]
  },
  {
   "cell_type": "markdown",
   "id": "7bb13f5e",
   "metadata": {},
   "source": [
    "### Lista numerada:\n",
    "\n",
    "In:\n",
    "```\n",
    "1. Primeiro item\n",
    "2. Segundo item\n",
    "3. Terceiro item\n",
    "```\n",
    "\n",
    "Out:\n",
    "```\n",
    "<ol>\n",
    "<li>Primeiro item</li>\n",
    "<li>Segundo item</li>\n",
    "<li>Terceiro item</li>\n",
    "</ol>\n",
    "```"
   ]
  },
  {
   "cell_type": "code",
   "execution_count": null,
   "id": "d977ad69",
   "metadata": {},
   "outputs": [
    {
     "name": "stdout",
     "output_type": "stream",
     "text": [
      "<ol>\n",
      "\n",
      "</ol>\n"
     ]
    }
   ],
   "source": [
    "frase1 = \"\"\"- Primeiro item\n",
    "- Segundo item\n",
    "- Terceiro item\"\"\"\n",
    "\n",
    "def listaNumerada(frase):\n",
    "    linha = frase.splitlines()\n",
    "    compilador = re.compile(r\"\\d+\\.\\s+(.+)$\")\n",
    "    itens = []\n",
    "    for l in linha:\n",
    "        m = compilador.match(l)\n",
    "        if m:\n",
    "            itens.append(f\"<li>{m.group(1)}</li>\")\n",
    "    return \"<ol>\\n\" + \"\\n\".join(itens) + \"\\n</ol>\"\n",
    "\n",
    "print(listaNumerada(frase1))      "
   ]
  },
  {
   "cell_type": "markdown",
   "id": "f830e980",
   "metadata": {},
   "source": [
    "### Link: [texto](endereço URL)\n",
    "\n",
    "In: `Como pode ser consultado em [página da UC](http://www.uc.pt)`\n",
    "\n",
    "Out: `Como pode ser consultado em <a href=\"http://www.uc.pt\">página da UC</a>`\n"
   ]
  },
  {
   "cell_type": "code",
   "execution_count": 28,
   "id": "d160b0ff",
   "metadata": {},
   "outputs": [
    {
     "name": "stdout",
     "output_type": "stream",
     "text": [
      "Como pode ser consultado em <a href=\\\"http://www.uc.pt\\\">página da UC</a>\n"
     ]
    }
   ],
   "source": [
    "frase1 =\"Como pode ser consultado em [página da UC](http://www.uc.pt)\"\n",
    "\n",
    "def link(frase):\n",
    "    compilador = re.compile(r\"\\[(.+?)\\]\\((.+?)\\)\")\n",
    "    return compilador.sub(r\"<a href=\\\"\\2\\\">\\1</a>\",frase)\n",
    "\n",
    "print(link(frase1))"
   ]
  },
  {
   "cell_type": "markdown",
   "id": "6bc6178e",
   "metadata": {},
   "source": [
    "### Imagem: ![texto alternativo](path para a imagem)\n",
    "\n",
    "In: Como se vê na imagem seguinte: `![imagem dum coelho](http://www.coellho.com) ...`\n",
    "\n",
    "Out: `Como se vê na imagem seguinte: <img src=\"http://www.coellho.com\" alt=\"imagem dum coelho\"/> ...`"
   ]
  },
  {
   "cell_type": "code",
   "execution_count": 30,
   "id": "d75f2b55",
   "metadata": {},
   "outputs": [
    {
     "name": "stdout",
     "output_type": "stream",
     "text": [
      "Como se vê na imagem seguinte: <img src=\\\"http://www.coellho.com\\\"alt=\\\"imagem dum coelho/>\\\" ...\n"
     ]
    }
   ],
   "source": [
    "frase1= \"Como se vê na imagem seguinte: ![imagem dum coelho](http://www.coellho.com) ...\"\n",
    "\n",
    "def imagem(frase):\n",
    "    compilador = re.compile(r\"!\\[(.+?)\\]\\((.+?)\\)\")\n",
    "    return compilador.sub(r\"<img src=\\\"\\2\\\"alt=\\\"\\1/>\\\"\", frase)\n",
    "\n",
    "print(imagem(frase1))"
   ]
  }
 ],
 "metadata": {
  "kernelspec": {
   "display_name": "base",
   "language": "python",
   "name": "python3"
  },
  "language_info": {
   "codemirror_mode": {
    "name": "ipython",
    "version": 3
   },
   "file_extension": ".py",
   "mimetype": "text/x-python",
   "name": "python",
   "nbconvert_exporter": "python",
   "pygments_lexer": "ipython3",
   "version": "3.12.11"
  }
 },
 "nbformat": 4,
 "nbformat_minor": 5
}
